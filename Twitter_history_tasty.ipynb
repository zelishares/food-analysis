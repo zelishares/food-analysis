{
 "cells": [
  {
   "cell_type": "code",
   "execution_count": 1,
   "id": "a24ffab5",
   "metadata": {},
   "outputs": [],
   "source": [
    "import json\n",
    "import pandas as pd\n",
    "import numpy as np\n",
    "import requests\n",
    "import psycopg2\n",
    "import os\n",
    "import sqlalchemy\n",
    "import tweepy"
   ]
  },
  {
   "cell_type": "code",
   "execution_count": 2,
   "id": "da58f487",
   "metadata": {},
   "outputs": [],
   "source": [
    "consumer_key = \"tLlNyxv25Z4P6iDpNYohcnvQP\"\n",
    "consumer_secret = \"NuNIcft96X61AuAIxvEUdH3AOjenRf86V2TVClw2iyclila9Kn\"\n",
    "access_token = \"1501850566456193027-XeRgm19kD8EdNqt0OXxIdw5F2Cj0Fx\"\n",
    "access_token_secret = \"dMM9yHiaCU8kehKNiJvKtF9dkgRgNupcX63Dcf4f8GH2l\""
   ]
  },
  {
   "cell_type": "code",
   "execution_count": 3,
   "id": "46b60415",
   "metadata": {},
   "outputs": [],
   "source": [
    "# Database credentials\n",
    "ENDPOINT = 'datalaketwitter.c16p7bc6xhi2.us-east-1.rds.amazonaws.com'\n",
    "DB_NAME = 'datalakeTwitter'\n",
    "USERNAME = 'nadine'\n",
    "PASSWORD = '30101995'"
   ]
  },
  {
   "cell_type": "code",
   "execution_count": 4,
   "id": "cf17236c",
   "metadata": {},
   "outputs": [],
   "source": [
    "# Creating the authentication object\n",
    "auth = tweepy.OAuthHandler(consumer_key, consumer_secret)\n",
    "# Setting your access token and secret\n",
    "auth.set_access_token(access_token, access_token_secret)\n",
    "# Creating the API object while passing in auth information\n",
    "api = tweepy.API(auth) "
   ]
  },
  {
   "cell_type": "code",
   "execution_count": 13,
   "id": "17c109fe",
   "metadata": {},
   "outputs": [],
   "source": [
    "# fetching tweets from the api\n",
    "tweet_list_tasty_history = []\n",
    "#result = api.user_timeline(screen_name='tasty')\n",
    "for tweets in tweepy.Cursor(api.user_timeline, screen_name='tasty').items():\n",
    "    tweet_list_tasty_history.append([tweets.text,\n",
    "                             tweets.created_at.date(),\n",
    "                             tweets.favorite_count,\n",
    "                             tweets.retweet_count,\n",
    "                             tweets.entities])"
   ]
  },
  {
   "cell_type": "code",
   "execution_count": 14,
   "id": "f65a4845",
   "metadata": {},
   "outputs": [],
   "source": [
    "# putting the data into a pandas dataframe and adjusting the type of the entities\n",
    "\n",
    "tasty_twitter_history = pd.DataFrame(tweet_list_tasty_history, columns=[\"tweet\", \"created\", \"favorites\", \"count\",'additional_information'])\n",
    "\n",
    "tasty_twitter_history['additional_information'] = tasty_twitter_history['additional_information'].apply(json.dumps)"
   ]
  },
  {
   "cell_type": "code",
   "execution_count": 15,
   "id": "d44d0a5b",
   "metadata": {},
   "outputs": [
    {
     "data": {
      "text/html": [
       "<div>\n",
       "<style scoped>\n",
       "    .dataframe tbody tr th:only-of-type {\n",
       "        vertical-align: middle;\n",
       "    }\n",
       "\n",
       "    .dataframe tbody tr th {\n",
       "        vertical-align: top;\n",
       "    }\n",
       "\n",
       "    .dataframe thead th {\n",
       "        text-align: right;\n",
       "    }\n",
       "</style>\n",
       "<table border=\"1\" class=\"dataframe\">\n",
       "  <thead>\n",
       "    <tr style=\"text-align: right;\">\n",
       "      <th></th>\n",
       "      <th>tweet</th>\n",
       "      <th>created</th>\n",
       "      <th>favorites</th>\n",
       "      <th>count</th>\n",
       "      <th>additional_information</th>\n",
       "    </tr>\n",
       "  </thead>\n",
       "  <tbody>\n",
       "    <tr>\n",
       "      <th>0</th>\n",
       "      <td>\"I had the biggest gnarliest nail clipping in ...</td>\n",
       "      <td>2022-04-21</td>\n",
       "      <td>6</td>\n",
       "      <td>1</td>\n",
       "      <td>{\"hashtags\": [], \"symbols\": [], \"user_mentions...</td>\n",
       "    </tr>\n",
       "    <tr>\n",
       "      <th>1</th>\n",
       "      <td>A Simple Veggie Curry changes my mood instantl...</td>\n",
       "      <td>2022-04-21</td>\n",
       "      <td>47</td>\n",
       "      <td>14</td>\n",
       "      <td>{\"hashtags\": [], \"symbols\": [], \"user_mentions...</td>\n",
       "    </tr>\n",
       "    <tr>\n",
       "      <th>2</th>\n",
       "      <td>5 Cleaning Hacks That You Need In Your Life 😍 ...</td>\n",
       "      <td>2022-04-21</td>\n",
       "      <td>57</td>\n",
       "      <td>18</td>\n",
       "      <td>{\"hashtags\": [], \"symbols\": [], \"user_mentions...</td>\n",
       "    </tr>\n",
       "    <tr>\n",
       "      <th>3</th>\n",
       "      <td>Forget stuffed crust, give me all crust. https...</td>\n",
       "      <td>2022-04-21</td>\n",
       "      <td>11</td>\n",
       "      <td>3</td>\n",
       "      <td>{\"hashtags\": [], \"symbols\": [], \"user_mentions...</td>\n",
       "    </tr>\n",
       "    <tr>\n",
       "      <th>4</th>\n",
       "      <td>What is the ultimate fruity dessert? While you...</td>\n",
       "      <td>2022-04-21</td>\n",
       "      <td>40</td>\n",
       "      <td>11</td>\n",
       "      <td>{\"hashtags\": [], \"symbols\": [], \"user_mentions...</td>\n",
       "    </tr>\n",
       "    <tr>\n",
       "      <th>...</th>\n",
       "      <td>...</td>\n",
       "      <td>...</td>\n",
       "      <td>...</td>\n",
       "      <td>...</td>\n",
       "      <td>...</td>\n",
       "    </tr>\n",
       "    <tr>\n",
       "      <th>3245</th>\n",
       "      <td>🦄🍬🌈 https://t.co/QxXOep3qzz</td>\n",
       "      <td>2022-01-14</td>\n",
       "      <td>210</td>\n",
       "      <td>34</td>\n",
       "      <td>{\"hashtags\": [], \"symbols\": [], \"user_mentions...</td>\n",
       "    </tr>\n",
       "    <tr>\n",
       "      <th>3246</th>\n",
       "      <td>RT @BuzzFeedVideo: 🥞+ 🐶 = pupcakes! https://t....</td>\n",
       "      <td>2022-01-14</td>\n",
       "      <td>0</td>\n",
       "      <td>159</td>\n",
       "      <td>{\"hashtags\": [], \"symbols\": [], \"user_mentions...</td>\n",
       "    </tr>\n",
       "    <tr>\n",
       "      <th>3247</th>\n",
       "      <td>6-Ingredient No-Bake Caramel Tarts to bring to...</td>\n",
       "      <td>2022-01-14</td>\n",
       "      <td>307</td>\n",
       "      <td>52</td>\n",
       "      <td>{\"hashtags\": [], \"symbols\": [], \"user_mentions...</td>\n",
       "    </tr>\n",
       "    <tr>\n",
       "      <th>3248</th>\n",
       "      <td>These Cheesecake bites came straight from heav...</td>\n",
       "      <td>2022-01-14</td>\n",
       "      <td>172</td>\n",
       "      <td>38</td>\n",
       "      <td>{\"hashtags\": [], \"symbols\": [], \"user_mentions...</td>\n",
       "    </tr>\n",
       "    <tr>\n",
       "      <th>3249</th>\n",
       "      <td>Do you like sour or sweet candy? https://t.co/...</td>\n",
       "      <td>2022-01-14</td>\n",
       "      <td>26</td>\n",
       "      <td>5</td>\n",
       "      <td>{\"hashtags\": [], \"symbols\": [], \"user_mentions...</td>\n",
       "    </tr>\n",
       "  </tbody>\n",
       "</table>\n",
       "<p>3250 rows × 5 columns</p>\n",
       "</div>"
      ],
      "text/plain": [
       "                                                  tweet     created  \\\n",
       "0     \"I had the biggest gnarliest nail clipping in ...  2022-04-21   \n",
       "1     A Simple Veggie Curry changes my mood instantl...  2022-04-21   \n",
       "2     5 Cleaning Hacks That You Need In Your Life 😍 ...  2022-04-21   \n",
       "3     Forget stuffed crust, give me all crust. https...  2022-04-21   \n",
       "4     What is the ultimate fruity dessert? While you...  2022-04-21   \n",
       "...                                                 ...         ...   \n",
       "3245                        🦄🍬🌈 https://t.co/QxXOep3qzz  2022-01-14   \n",
       "3246  RT @BuzzFeedVideo: 🥞+ 🐶 = pupcakes! https://t....  2022-01-14   \n",
       "3247  6-Ingredient No-Bake Caramel Tarts to bring to...  2022-01-14   \n",
       "3248  These Cheesecake bites came straight from heav...  2022-01-14   \n",
       "3249  Do you like sour or sweet candy? https://t.co/...  2022-01-14   \n",
       "\n",
       "      favorites  count                             additional_information  \n",
       "0             6      1  {\"hashtags\": [], \"symbols\": [], \"user_mentions...  \n",
       "1            47     14  {\"hashtags\": [], \"symbols\": [], \"user_mentions...  \n",
       "2            57     18  {\"hashtags\": [], \"symbols\": [], \"user_mentions...  \n",
       "3            11      3  {\"hashtags\": [], \"symbols\": [], \"user_mentions...  \n",
       "4            40     11  {\"hashtags\": [], \"symbols\": [], \"user_mentions...  \n",
       "...         ...    ...                                                ...  \n",
       "3245        210     34  {\"hashtags\": [], \"symbols\": [], \"user_mentions...  \n",
       "3246          0    159  {\"hashtags\": [], \"symbols\": [], \"user_mentions...  \n",
       "3247        307     52  {\"hashtags\": [], \"symbols\": [], \"user_mentions...  \n",
       "3248        172     38  {\"hashtags\": [], \"symbols\": [], \"user_mentions...  \n",
       "3249         26      5  {\"hashtags\": [], \"symbols\": [], \"user_mentions...  \n",
       "\n",
       "[3250 rows x 5 columns]"
      ]
     },
     "metadata": {},
     "output_type": "display_data"
    }
   ],
   "source": [
    "#check if the data is displayed correctly\n",
    "display(tasty_twitter_history)"
   ]
  },
  {
   "cell_type": "code",
   "execution_count": 16,
   "id": "2e3075a8",
   "metadata": {},
   "outputs": [
    {
     "name": "stdout",
     "output_type": "stream",
     "text": [
      "host=datalaketwitter.c16p7bc6xhi2.us-east-1.rds.amazonaws.com dbname=datalakeTwitter user=nadine password=30101995\n"
     ]
    }
   ],
   "source": [
    "#try to make a connection to the database\n",
    "try:\n",
    "    print(\"host={} dbname={} user={} password={}\".format(ENDPOINT, DB_NAME, USERNAME, PASSWORD))\n",
    "    conn = psycopg2.connect(\"host={} dbname={} user={} password={}\".format(ENDPOINT, DB_NAME, USERNAME, PASSWORD))\n",
    "    \n",
    "except psycopg2.Error as e:\n",
    "    print(\"Error: Could not make connection to the Postgres database\")\n",
    "    print(e)\n",
    "        \n",
    "try:\n",
    "    cur = conn.cursor()\n",
    "    \n",
    "except psycopg2.Error as e:\n",
    "    print(\"Error: Could not get curser to the Database\")\n",
    "    print(e)\n",
    "        \n",
    "# Create sqlalchemy engine\n",
    "engine = sqlalchemy.create_engine(\"postgresql://{}:{}@{}:5432/{}\".format(USERNAME,PASSWORD,ENDPOINT,DB_NAME))"
   ]
  },
  {
   "cell_type": "code",
   "execution_count": null,
   "id": "58f8a50e",
   "metadata": {},
   "outputs": [],
   "source": [
    "#creating table if not existent\n",
    "conn.set_session(autocommit=True)\n",
    "cur.execute(\"CREATE TABLE IF NOT EXISTS tasty_twitter_history (tweet TEXT, created DATE, favorites INT, count INT, additional_information jsonb);\")\n",
    "    "
   ]
  },
  {
   "cell_type": "code",
   "execution_count": null,
   "id": "356d7a64",
   "metadata": {},
   "outputs": [],
   "source": [
    "tasty_twitter_history.to_sql('tasty_twitter_history', engine, if_exists = 'append', index = False)"
   ]
  },
  {
   "cell_type": "code",
   "execution_count": null,
   "id": "53735e6a",
   "metadata": {},
   "outputs": [],
   "source": [
    "cur.close()\n",
    "conn.close()"
   ]
  }
 ],
 "metadata": {
  "kernelspec": {
   "display_name": "Python 3 (ipykernel)",
   "language": "python",
   "name": "python3"
  },
  "language_info": {
   "codemirror_mode": {
    "name": "ipython",
    "version": 3
   },
   "file_extension": ".py",
   "mimetype": "text/x-python",
   "name": "python",
   "nbconvert_exporter": "python",
   "pygments_lexer": "ipython3",
   "version": "3.9.7"
  }
 },
 "nbformat": 4,
 "nbformat_minor": 5
}
